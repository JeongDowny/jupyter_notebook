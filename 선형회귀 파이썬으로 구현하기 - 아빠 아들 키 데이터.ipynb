{
 "cells": [
  {
   "cell_type": "code",
   "execution_count": 36,
   "metadata": {},
   "outputs": [],
   "source": [
    "import numpy as np\n",
    "import pandas as pd\n",
    "import matplotlib.pyplot as plt"
   ]
  },
  {
   "cell_type": "code",
   "execution_count": 37,
   "metadata": {},
   "outputs": [],
   "source": [
    "file = 'C:/Users/daun5/jupyter notebook/data/father_son_height.xlsx'"
   ]
  },
  {
   "cell_type": "code",
   "execution_count": 38,
   "metadata": {
    "scrolled": true
   },
   "outputs": [],
   "source": [
    "df = pd.read_excel(file, sheet_name = 'train')\n",
    "Pred_X = np.array(df['Father'])\n",
    "Pred_Y = np.array(df['Son'])\n",
    "w = np.random.rand(1)\n",
    "b = np.random.rand(1)\n",
    "learning_rate = 0.0001\n",
    "times = 5000"
   ]
  },
  {
   "cell_type": "code",
   "execution_count": 39,
   "metadata": {},
   "outputs": [],
   "source": [
    "def cost_w(w, b):\n",
    "    cost = 0\n",
    "    for i in range(len(Pred_Y)):\n",
    "        cost += Pred_X[i] * (Pred_X[i] * w + b - Pred_Y[i])\n",
    "    return cost / 2 / len(Pred_Y) #cost-w 의 편미분 값 리턴"
   ]
  },
  {
   "cell_type": "code",
   "execution_count": 40,
   "metadata": {},
   "outputs": [],
   "source": [
    "def cost_b(w, b):\n",
    "    cost = 0\n",
    "    for i in range(len(Pred_Y)):\n",
    "        cost += (Pred_Y[i] - Pred_X[i] * w + b)\n",
    "    return cost / 2 / len(Pred_Y) #cost-b 의 편미분 값 리턴"
   ]
  },
  {
   "cell_type": "code",
   "execution_count": 41,
   "metadata": {
    "scrolled": true
   },
   "outputs": [],
   "source": [
    "def update(w, b):\n",
    "    w = w - learning_rate * cost_w(w, b)\n",
    "    b = b - learning_rate * cost_b(w, b)\n",
    "    return w, b # w 와 b 값 수정"
   ]
  },
  {
   "cell_type": "code",
   "execution_count": 42,
   "metadata": {},
   "outputs": [],
   "source": [
    "def train(Pred_X, Pred_Y, w, b, learning_rate, times):\n",
    "    for i in range(times):\n",
    "        w, b = update(w, b)\n",
    "    return w, b "
   ]
  },
  {
   "cell_type": "code",
   "execution_count": 43,
   "metadata": {},
   "outputs": [],
   "source": [
    "w, b= train(Pred_X, Pred_Y, w, b, learning_rate, times)"
   ]
  },
  {
   "cell_type": "code",
   "execution_count": 44,
   "metadata": {
    "scrolled": false
   },
   "outputs": [
    {
     "name": "stdout",
     "output_type": "stream",
     "text": [
      "y = [1.01120294]x + [0.49720659]\n"
     ]
    }
   ],
   "source": [
    "print(\"y = {}x + {}\".format(w, b)) "
   ]
  },
  {
   "cell_type": "code",
   "execution_count": 45,
   "metadata": {
    "scrolled": false
   },
   "outputs": [
    {
     "data": {
      "image/png": "[encoded data removed]",
      "text/plain": [
       "<Figure size 432x288 with 1 Axes>"
      ]
     },
     "metadata": {
      "needs_background": "light"
     },
     "output_type": "display_data"
    }
   ],
   "source": [
    "plt.scatter(Pred_X,Pred_Y)\n",
    "plt.plot([min(Pred_X),max(Pred_X)],np.array([min(Pred_X),max(Pred_X)])*w+b)\n",
    "plt.show()"
   ]
  },
  {
   "cell_type": "markdown",
   "metadata": {},
   "source": []
  },
  {
   "cell_type": "code",
   "execution_count": 55,
   "metadata": {
    "scrolled": false
   },
   "outputs": [
    {
     "name": "stdout",
     "output_type": "stream",
     "text": [
      "170\n"
     ]
    }
   ],
   "source": [
    "x = list(map(int, input().split()))"
   ]
  },
  {
   "cell_type": "code",
   "execution_count": 56,
   "metadata": {},
   "outputs": [
    {
     "name": "stdout",
     "output_type": "stream",
     "text": [
      "172.4017068441378\n"
     ]
    }
   ],
   "source": [
    "Y = w * x + b\n",
    "print(float(Y))"
   ]
  },
  {
   "cell_type": "code",
   "execution_count": null,
   "metadata": {},
   "outputs": [],
   "source": []
  }
 ],
 "metadata": {
  "kernelspec": {
   "display_name": "Python 3",
   "language": "python",
   "name": "python3"
  },
  "language_info": {
   "codemirror_mode": {
    "name": "ipython",
    "version": 3
   },
   "file_extension": ".py",
   "mimetype": "text/x-python",
   "name": "python",
   "nbconvert_exporter": "python",
   "pygments_lexer": "ipython3",
   "version": "3.8.5"
  }
 },
 "nbformat": 4,
 "nbformat_minor": 4
}
