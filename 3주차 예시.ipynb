{
 "cells": [
  {
   "cell_type": "code",
   "execution_count": 1,
   "metadata": {},
   "outputs": [],
   "source": [
    "import numpy as np"
   ]
  },
  {
   "cell_type": "code",
   "execution_count": 2,
   "metadata": {},
   "outputs": [
    {
     "data": {
      "text/plain": [
       "[1, 2, 3, 4, 5]"
      ]
     },
     "execution_count": 2,
     "metadata": {},
     "output_type": "execute_result"
    }
   ],
   "source": [
    "data1 = [1, 2, 3, 4, 5]\n",
    "data1"
   ]
  },
  {
   "cell_type": "code",
   "execution_count": 3,
   "metadata": {},
   "outputs": [
    {
     "data": {
      "text/plain": [
       "array([1, 2, 3, 4, 5])"
      ]
     },
     "execution_count": 3,
     "metadata": {},
     "output_type": "execute_result"
    }
   ],
   "source": [
    "arr1 = np.array(data1)\n",
    "arr1"
   ]
  },
  {
   "cell_type": "code",
   "execution_count": 4,
   "metadata": {},
   "outputs": [
    {
     "data": {
      "text/plain": [
       "array([1, 2, 3, 4, 5])"
      ]
     },
     "execution_count": 4,
     "metadata": {},
     "output_type": "execute_result"
    }
   ],
   "source": [
    "arr2 = np.array([1, 2, 3, 4, 5])\n",
    "arr2"
   ]
  },
  {
   "cell_type": "code",
   "execution_count": 5,
   "metadata": {},
   "outputs": [
    {
     "data": {
      "text/plain": [
       "(5,)"
      ]
     },
     "execution_count": 5,
     "metadata": {},
     "output_type": "execute_result"
    }
   ],
   "source": [
    "arr1.shape #array의 차원, 크기"
   ]
  },
  {
   "cell_type": "code",
   "execution_count": 6,
   "metadata": {},
   "outputs": [
    {
     "data": {
      "text/plain": [
       "dtype('int32')"
      ]
     },
     "execution_count": 6,
     "metadata": {},
     "output_type": "execute_result"
    }
   ],
   "source": [
    "arr1.dtype"
   ]
  },
  {
   "cell_type": "code",
   "execution_count": 7,
   "metadata": {},
   "outputs": [
    {
     "data": {
      "text/plain": [
       "array([[1, 2, 3],\n",
       "       [4, 5, 6]])"
      ]
     },
     "execution_count": 7,
     "metadata": {},
     "output_type": "execute_result"
    }
   ],
   "source": [
    "arr2 = np.array([[ 1, 2, 3], \n",
    "                 [ 4, 5, 6]])\n",
    "arr2"
   ]
  },
  {
   "cell_type": "code",
   "execution_count": 8,
   "metadata": {},
   "outputs": [
    {
     "data": {
      "text/plain": [
       "(2, 3)"
      ]
     },
     "execution_count": 8,
     "metadata": {},
     "output_type": "execute_result"
    }
   ],
   "source": [
    "arr2.shape #array의 차원, 크기"
   ]
  },
  {
   "cell_type": "code",
   "execution_count": 9,
   "metadata": {},
   "outputs": [
    {
     "data": {
      "text/plain": [
       "dtype('int32')"
      ]
     },
     "execution_count": 9,
     "metadata": {},
     "output_type": "execute_result"
    }
   ],
   "source": [
    "arr2.dtype"
   ]
  },
  {
   "cell_type": "code",
   "execution_count": 10,
   "metadata": {},
   "outputs": [
    {
     "data": {
      "text/plain": [
       "dtype('<U5')"
      ]
     },
     "execution_count": 10,
     "metadata": {},
     "output_type": "execute_result"
    }
   ],
   "source": [
    "arr3 = np.array(['Seoul', 'Busan'])\n",
    "arr3.dtype"
   ]
  },
  {
   "cell_type": "code",
   "execution_count": 11,
   "metadata": {},
   "outputs": [
    {
     "data": {
      "text/plain": [
       "array([[0., 0., 0., 0., 0.],\n",
       "       [0., 0., 0., 0., 0.],\n",
       "       [0., 0., 0., 0., 0.]])"
      ]
     },
     "execution_count": 11,
     "metadata": {},
     "output_type": "execute_result"
    }
   ],
   "source": [
    "np.zeros((3, 5)) #크기를 인자로 받고 모든 요소가 0인 array 만듬. "
   ]
  },
  {
   "cell_type": "code",
   "execution_count": 12,
   "metadata": {},
   "outputs": [
    {
     "data": {
      "text/plain": [
       "array([[1., 1., 1., 1., 1.],\n",
       "       [1., 1., 1., 1., 1.],\n",
       "       [1., 1., 1., 1., 1.]])"
      ]
     },
     "execution_count": 12,
     "metadata": {},
     "output_type": "execute_result"
    }
   ],
   "source": [
    "np.ones((3, 5)) #크기를 인자로 받고 모든 요소가 1인 array 만듬."
   ]
  },
  {
   "cell_type": "code",
   "execution_count": 13,
   "metadata": {},
   "outputs": [
    {
     "data": {
      "text/plain": [
       "array([0, 1, 2, 3, 4, 5, 6, 7, 8, 9])"
      ]
     },
     "execution_count": 13,
     "metadata": {},
     "output_type": "execute_result"
    }
   ],
   "source": [
    "np.arange(10) #인자로 받는 값 만큼 1씩 증가하는 1차원 array 만듬."
   ]
  },
  {
   "cell_type": "code",
   "execution_count": 14,
   "metadata": {},
   "outputs": [
    {
     "data": {
      "text/plain": [
       "array([3, 4, 5, 6, 7, 8, 9])"
      ]
     },
     "execution_count": 14,
     "metadata": {},
     "output_type": "execute_result"
    }
   ],
   "source": [
    "np.arange(3, 10) #하나의 인자 : 0~인자 "
   ]
  },
  {
   "cell_type": "code",
   "execution_count": 15,
   "metadata": {},
   "outputs": [
    {
     "name": "stdout",
     "output_type": "stream",
     "text": [
      "(2, 3)\n",
      "(2, 3)\n"
     ]
    }
   ],
   "source": [
    "arr1 = np.array([[1, 2, 3], \n",
    "                 [4, 5, 6]])\n",
    "arr2 = np.array([[4, 5, 6], \n",
    "                 [1, 2, 3]])\n",
    "print(arr1.shape)\n",
    "print(arr2.shape)"
   ]
  },
  {
   "cell_type": "code",
   "execution_count": 16,
   "metadata": {},
   "outputs": [
    {
     "name": "stdout",
     "output_type": "stream",
     "text": [
      "[[5 7 9]\n",
      " [5 7 9]]\n",
      "[[-3 -3 -3]\n",
      " [ 3  3  3]]\n",
      "[[ 4 10 18]\n",
      " [ 4 10 18]]\n",
      "[[0.25 0.4  0.5 ]\n",
      " [4.   2.5  2.  ]]\n"
     ]
    }
   ],
   "source": [
    "print(arr1 + arr2)\n",
    "print(arr1 - arr2)\n",
    "print(arr1 * arr2)\n",
    "print(arr1 / arr2)"
   ]
  },
  {
   "cell_type": "code",
   "execution_count": 17,
   "metadata": {},
   "outputs": [
    {
     "data": {
      "text/plain": [
       "array([[10, 20, 30],\n",
       "       [40, 50, 60]])"
      ]
     },
     "execution_count": 17,
     "metadata": {},
     "output_type": "execute_result"
    }
   ],
   "source": [
    "arr1 * 10"
   ]
  },
  {
   "cell_type": "code",
   "execution_count": 18,
   "metadata": {},
   "outputs": [
    {
     "data": {
      "text/plain": [
       "array([[ 1,  4,  9],\n",
       "       [16, 25, 36]], dtype=int32)"
      ]
     },
     "execution_count": 18,
     "metadata": {},
     "output_type": "execute_result"
    }
   ],
   "source": [
    "arr1 ** 2"
   ]
  },
  {
   "cell_type": "code",
   "execution_count": 5,
   "metadata": {
    "scrolled": true
   },
   "outputs": [
    {
     "data": {
      "text/plain": [
       "array([[ 1,  2,  3,  4],\n",
       "       [ 5,  6,  7,  8],\n",
       "       [ 9, 10, 11, 12]])"
      ]
     },
     "execution_count": 5,
     "metadata": {},
     "output_type": "execute_result"
    }
   ],
   "source": [
    "arr1 = np.array([[1, 2, 3, 4]\n",
    "                ,[5, 6, 7, 8]\n",
    "                ,[9, 10, 11, 12]])\n",
    "arr1"
   ]
  },
  {
   "cell_type": "code",
   "execution_count": 6,
   "metadata": {},
   "outputs": [
    {
     "name": "stdout",
     "output_type": "stream",
     "text": [
      "2\n",
      "2\n"
     ]
    }
   ],
   "source": [
    "print(arr1[0, 1])\n",
    "print(arr1[0][1])"
   ]
  },
  {
   "cell_type": "code",
   "execution_count": 7,
   "metadata": {},
   "outputs": [
    {
     "name": "stdout",
     "output_type": "stream",
     "text": [
      "[1 2 3 4]\n",
      "[5 6 7 8]\n",
      "[ 9 10 11 12]\n",
      "[1 5 9]\n"
     ]
    }
   ],
   "source": [
    "print(arr1[0, :])\n",
    "print(arr1[1, :])\n",
    "print(arr1[2, :])\n",
    "print(arr1[:, 0])"
   ]
  },
  {
   "cell_type": "code",
   "execution_count": 8,
   "metadata": {},
   "outputs": [
    {
     "data": {
      "text/plain": [
       "array([ True, False, False])"
      ]
     },
     "execution_count": 8,
     "metadata": {},
     "output_type": "execute_result"
    }
   ],
   "source": [
    "last = np.array(['김', '이', '박'])\n",
    "first = np.array([['김민준', '김서준', '김예준']\n",
    "                 ,['이도윤', '이시우', '이주원']\n",
    "                 ,['박하준', '박지호', '박지후']])\n",
    "last == '김'"
   ]
  },
  {
   "cell_type": "code",
   "execution_count": 9,
   "metadata": {},
   "outputs": [
    {
     "name": "stdout",
     "output_type": "stream",
     "text": [
      "[ True False False]\n",
      "[False  True False]\n",
      "[False False  True]\n",
      "[['김민준' '김서준' '김예준']]\n",
      "[['이도윤' '이시우' '이주원']]\n",
      "[['박하준' '박지호' '박지후']]\n"
     ]
    }
   ],
   "source": [
    "name_김 = (last == '김')\n",
    "name_이 = (last == '이')\n",
    "name_박 = (last == '박')\n",
    "print(name_김)\n",
    "print(name_이)\n",
    "print(name_박)\n",
    "print(first[name_김, :])\n",
    "print(first[name_이, :])\n",
    "print(first[name_박, :])"
   ]
  },
  {
   "cell_type": "code",
   "execution_count": 24,
   "metadata": {
    "scrolled": true
   },
   "outputs": [
    {
     "name": "stdout",
     "output_type": "stream",
     "text": [
      "[3 4]\n"
     ]
    }
   ],
   "source": [
    "array_data = np.array([1, 2, 3, 4])\n",
    "array_mask = array_data > 2\n",
    "filtered_data = array_data[array_mask]\n",
    "print(filtered_data)"
   ]
  },
  {
   "cell_type": "code",
   "execution_count": 11,
   "metadata": {},
   "outputs": [],
   "source": [
    "arr1 = np.array([[1, 2, -3]\n",
    "                ,[4, 5, -6]\n",
    "                ,[7, 8, -9]])"
   ]
  },
  {
   "cell_type": "code",
   "execution_count": 12,
   "metadata": {
    "scrolled": true
   },
   "outputs": [
    {
     "name": "stdout",
     "output_type": "stream",
     "text": [
      "[[1 2 3]\n",
      " [4 5 6]\n",
      " [7 8 9]]\n",
      "[[1.         1.41421356        nan]\n",
      " [2.         2.23606798        nan]\n",
      " [2.64575131 2.82842712        nan]]\n",
      "[[ 1  4  9]\n",
      " [16 25 36]\n",
      " [49 64 81]]\n",
      "[[0.         0.69314718        nan]\n",
      " [1.38629436 1.60943791        nan]\n",
      " [1.94591015 2.07944154        nan]]\n",
      "[[ 1  1 -1]\n",
      " [ 1  1 -1]\n",
      " [ 1  1 -1]]\n",
      "[[ 0.84147098  0.90929743 -0.14112001]\n",
      " [-0.7568025  -0.95892427  0.2794155 ]\n",
      " [ 0.6569866   0.98935825 -0.41211849]]\n"
     ]
    },
    {
     "name": "stderr",
     "output_type": "stream",
     "text": [
      "<ipython-input-12-897da1719e40>:2: RuntimeWarning: invalid value encountered in sqrt\n",
      "  print(np.sqrt(arr1)) #음수는 계산X\n",
      "<ipython-input-12-897da1719e40>:4: RuntimeWarning: invalid value encountered in log\n",
      "  print(np.log(arr1)) #음수는 계산X\n"
     ]
    }
   ],
   "source": [
    "print(np.abs(arr1))\n",
    "print(np.sqrt(arr1)) #음수는 계산X\n",
    "print(np.square(arr1)) \n",
    "print(np.log(arr1)) #음수는 계산X\n",
    "print(np.sign(arr1))\n",
    "print(np.sin(arr1))"
   ]
  },
  {
   "cell_type": "code",
   "execution_count": 18,
   "metadata": {
    "scrolled": false
   },
   "outputs": [
    {
     "name": "stdout",
     "output_type": "stream",
     "text": [
      "[[0.29785637 0.20063008]\n",
      " [0.86735777 0.64623941]\n",
      " [0.29989464 0.21811074]]\n",
      "4\n",
      "[[ 1.15854772 -0.01571111]\n",
      " [-0.36144805 -0.44091674]\n",
      " [-1.06838515  0.41455215]]\n"
     ]
    }
   ],
   "source": [
    "arr1 = np.random.rand(3, 2) #0 ~ 1 의 표준정규분포 난수\n",
    "arr2 = np.random.randint(5) #1부터 n-1까지 랜덤숫자 1개\n",
    "arr3 = np.random.randn(3, 2) #평균0, 표준편차1의 표준정규분포 난수\n",
    "print(arr1)\n",
    "print(arr2)\n",
    "print(arr3)"
   ]
  },
  {
   "cell_type": "code",
   "execution_count": 19,
   "metadata": {
    "scrolled": false
   },
   "outputs": [
    {
     "data": {
      "text/plain": [
       "array([[ 0.55091616, -1.23061056],\n",
       "       [ 0.75418559, -1.74485749],\n",
       "       [-0.40775172, -0.38615505]])"
      ]
     },
     "execution_count": 19,
     "metadata": {},
     "output_type": "execute_result"
    }
   ],
   "source": [
    "arr4 = np.random.randn(3, 2)\n",
    "arr4"
   ]
  },
  {
   "cell_type": "code",
   "execution_count": 20,
   "metadata": {
    "scrolled": true
   },
   "outputs": [
    {
     "name": "stdout",
     "output_type": "stream",
     "text": [
      "[[ 1.70946388 -1.24632166]\n",
      " [ 0.39273754 -2.18577423]\n",
      " [-1.47613687  0.0283971 ]]\n",
      "[[ 0.60763156  1.21489945]\n",
      " [-1.11563363  1.30394075]\n",
      " [-0.66063344  0.8007072 ]]\n",
      "[[ 0.63826267  0.01933426]\n",
      " [-0.27259891  0.76933688]\n",
      " [ 0.43563588 -0.16008141]]\n",
      "[[ 2.10294742  0.01276692]\n",
      " [-0.4792561   0.25269499]\n",
      " [ 2.62018556 -1.07353807]]\n"
     ]
    }
   ],
   "source": [
    "print(np.add(arr3, arr4))  # 사칙연산\n",
    "print(np.subtract(arr3, arr4))\n",
    "print(np.multiply(arr3, arr4))\n",
    "print(np.divide(arr3, arr4))"
   ]
  },
  {
   "cell_type": "code",
   "execution_count": 30,
   "metadata": {
    "scrolled": true
   },
   "outputs": [
    {
     "name": "stdout",
     "output_type": "stream",
     "text": [
      "[[-0.58166118  2.65719931]\n",
      " [ 2.10092546  0.43052403]\n",
      " [ 0.15194372  1.64200056]]\n",
      "[[-1.50337954 -1.89469335]\n",
      " [ 0.7250137   0.08488157]\n",
      " [ 0.04388013 -0.18926315]]\n"
     ]
    }
   ],
   "source": [
    "print(np.maximum(arr3, arr4)) # 최대 최소\n",
    "print(np.minimum(arr3, arr4)) "
   ]
  },
  {
   "cell_type": "code",
   "execution_count": 33,
   "metadata": {
    "scrolled": true
   },
   "outputs": [
    {
     "name": "stdout",
     "output_type": "stream",
     "text": [
      "[[ 1.15854772 -0.01571111]\n",
      " [-0.36144805 -0.44091674]\n",
      " [-1.06838515  0.41455215]]\n",
      "-0.3133611791983493\n",
      "[-0.27128548 -0.0420757 ]\n"
     ]
    }
   ],
   "source": [
    "print(arr3)\n",
    "print(np.sum(arr3)) # 전체 성분\n",
    "print(np.sum(arr3, axis = 0)) # 첫 번째 괄호가 사라졌을 때 덧셈"
   ]
  },
  {
   "cell_type": "code",
   "execution_count": 25,
   "metadata": {
    "scrolled": false
   },
   "outputs": [
    {
     "name": "stdout",
     "output_type": "stream",
     "text": [
      "-0.05222686319972489\n",
      "[-0.09042849 -0.01402523]\n"
     ]
    }
   ],
   "source": [
    "print(np.mean(arr3)) # 전체 평균\n",
    "print(np.mean(arr3, axis = 0)) # 첫 번째 괄호가 사라졌을 때 평균"
   ]
  },
  {
   "cell_type": "code",
   "execution_count": 26,
   "metadata": {
    "scrolled": true
   },
   "outputs": [
    {
     "name": "stdout",
     "output_type": "stream",
     "text": [
      "0.7029066285349876\n",
      "0.49407772843842307\n",
      "1.15854772153805\n",
      "-1.068385154282249\n"
     ]
    }
   ],
   "source": [
    "print(np.std(arr3)) # 표준편차\n",
    "print(np.var(arr3)) # 분산\n",
    "print(np.max(arr3)) # 최대값\n",
    "print(np.min(arr3)) # 최소값"
   ]
  },
  {
   "cell_type": "code",
   "execution_count": 28,
   "metadata": {
    "scrolled": false
   },
   "outputs": [
    {
     "name": "stdout",
     "output_type": "stream",
     "text": [
      "0\n",
      "4\n"
     ]
    }
   ],
   "source": [
    "print(np.argmax(arr3)) # 전체 성분의 최대값이 위치한 인덱스\n",
    "print(np.argmin(arr3)) # 전체 성분의 최소값이 위치한 인덱스"
   ]
  },
  {
   "cell_type": "code",
   "execution_count": 30,
   "metadata": {
    "scrolled": false
   },
   "outputs": [
    {
     "name": "stdout",
     "output_type": "stream",
     "text": [
      "[[ 1.15854772 -0.01571111]\n",
      " [-0.36144805 -0.44091674]\n",
      " [-1.06838515  0.41455215]]\n",
      "[ 1.15854772  1.14283661  0.78138857  0.34047183 -0.72791333 -0.31336118]\n",
      "[ 1.15854772 -0.01820207  0.0065791  -0.00290084  0.00309921  0.00128478]\n"
     ]
    }
   ],
   "source": [
    "print(arr3)\n",
    "print(np.cumsum(arr3)) # 처음부터 마지막 성분까지의 누적합\n",
    "print(np.cumprod(arr3)) # 처음부터 마지막 성분까지의 누적곱"
   ]
  },
  {
   "cell_type": "code",
   "execution_count": 32,
   "metadata": {
    "scrolled": true
   },
   "outputs": [
    {
     "name": "stdout",
     "output_type": "stream",
     "text": [
      "[[-0.01571111  1.15854772]\n",
      " [-0.44091674 -0.36144805]\n",
      " [-1.06838515  0.41455215]]\n",
      "[[-1.06838515  0.41455215]\n",
      " [-0.44091674 -0.36144805]\n",
      " [-0.01571111  1.15854772]]\n"
     ]
    }
   ],
   "source": [
    "print(np.sort(arr3))\n",
    "print(np.sort(arr3)[:: -1])"
   ]
  },
  {
   "cell_type": "code",
   "execution_count": null,
   "metadata": {},
   "outputs": [],
   "source": []
  }
 ],
 "metadata": {
  "kernelspec": {
   "display_name": "Python 3",
   "language": "python",
   "name": "python3"
  },
  "language_info": {
   "codemirror_mode": {
    "name": "ipython",
    "version": 3
   },
   "file_extension": ".py",
   "mimetype": "text/x-python",
   "name": "python",
   "nbconvert_exporter": "python",
   "pygments_lexer": "ipython3",
   "version": "3.8.5"
  }
 },
 "nbformat": 4,
 "nbformat_minor": 4
}
