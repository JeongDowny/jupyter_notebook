{
 "cells": [
  {
   "cell_type": "code",
   "execution_count": 1,
   "metadata": {
    "scrolled": false
   },
   "outputs": [
    {
     "name": "stdout",
     "output_type": "stream",
     "text": [
      "이번 주차 발표자는 정지원님입니다 !\n",
      "남은 발표자: ['정다운', '유환욱', '송지원', '이종훈', '남가은']\n"
     ]
    }
   ],
   "source": [
    "import random\n",
    "presenter_list = ['정다운', '유환욱', '송지원', '이종훈', '남가은', '정지원']\n",
    "a = random.choice(presenter_list)\n",
    "print('이번 주차 발표자는 %s님입니다 !' %a)\n",
    "presenter_list.remove(a)\n",
    "print('남은 발표자:', presenter_list)\n",
    "with open('남은 발표자.txt', 'w', encoding = 'UTF-8') as f:\n",
    "    for name in presenter_list:\n",
    "        f.write(name + '\\n')"
   ]
  },
  {
   "cell_type": "markdown",
   "metadata": {},
   "source": [
    "처음, 6회차 실행 시 여기까지 실행할 것"
   ]
  },
  {
   "cell_type": "markdown",
   "metadata": {},
   "source": [
    "2회차 이상 실행 시 아래 실행할 것"
   ]
  },
  {
   "cell_type": "code",
   "execution_count": 19,
   "metadata": {},
   "outputs": [
    {
     "name": "stdout",
     "output_type": "stream",
     "text": [
      "이번 주차 발표자는 유환욱님입니다 !\n",
      "남은 발표자:  []\n"
     ]
    }
   ],
   "source": [
    "import random\n",
    "f = open('./남은 발표자.txt', 'r', encoding = 'UTF-8')\n",
    "presenter_list = f.readlines()\n",
    "f.close()\n",
    "i = 0;\n",
    "for presenter in presenter_list:\n",
    "    presenter_list[i] = presenter.replace('\\n', \"\")\n",
    "    i += 1\n",
    "a = random.choice(presenter_list)\n",
    "print('이번 주차 발표자는 %s님입니다 !' %a)\n",
    "presenter_list.remove(a)\n",
    "print('남은 발표자:', presenter_list)\n",
    "with open('남은 발표자.txt', 'w', encoding = 'UTF-8') as f:\n",
    "    for name in presenter_list:\n",
    "        f.write(name + '\\n')"
   ]
  },
  {
   "cell_type": "code",
   "execution_count": null,
   "metadata": {},
   "outputs": [],
   "source": []
  }
 ],
 "metadata": {
  "kernelspec": {
   "display_name": "Python 3",
   "language": "python",
   "name": "python3"
  },
  "language_info": {
   "codemirror_mode": {
    "name": "ipython",
    "version": 3
   },
   "file_extension": ".py",
   "mimetype": "text/x-python",
   "name": "python",
   "nbconvert_exporter": "python",
   "pygments_lexer": "ipython3",
   "version": "3.8.5"
  }
 },
 "nbformat": 4,
 "nbformat_minor": 4
}
